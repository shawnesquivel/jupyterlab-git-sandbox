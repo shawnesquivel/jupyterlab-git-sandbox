{
 "cells": [
  {
   "cell_type": "markdown",
   "id": "c412f2da-6dfa-4b15-aa04-d17fca89dfc9",
   "metadata": {
    "tags": []
   },
   "source": [
    "# Keyboard Shortcuts\n",
    "- a = add cell above\n",
    "- b = add cell below\n",
    "- c = copy cell\n",
    "- v = paste\n",
    "- x = cut\n",
    "- d d = delete\n",
    "- z = undo\n",
    "- shift + z = redo\n",
    "- y = code\n",
    "- m = markdown\n",
    "- command mode => 0 0 (restart kernel)"
   ]
  },
  {
   "cell_type": "code",
   "execution_count": 1,
   "id": "cf36cf4e-2dd6-4948-96c8-04922188d111",
   "metadata": {},
   "outputs": [
    {
     "data": {
      "text/plain": [
       "15"
      ]
     },
     "execution_count": 1,
     "metadata": {},
     "output_type": "execute_result"
    }
   ],
   "source": [
    "n = 3*5\n",
    "n"
   ]
  },
  {
   "cell_type": "code",
   "execution_count": 2,
   "id": "81f4a56b-441c-42d4-bc21-8101b8fe2f34",
   "metadata": {},
   "outputs": [
    {
     "data": {
      "text/plain": [
       "15"
      ]
     },
     "execution_count": 2,
     "metadata": {},
     "output_type": "execute_result"
    }
   ],
   "source": [
    "n = 3*5\n",
    "n"
   ]
  },
  {
   "cell_type": "code",
   "execution_count": 3,
   "id": "3443ed64-0fec-41d2-9d83-a2a47835ab22",
   "metadata": {},
   "outputs": [
    {
     "name": "stdout",
     "output_type": "stream",
     "text": [
      "1\n"
     ]
    }
   ],
   "source": [
    "x = 1\n",
    "print(x)"
   ]
  },
  {
   "cell_type": "code",
   "execution_count": 4,
   "id": "04372a03-4b63-4aa5-9a0b-337fb1389488",
   "metadata": {},
   "outputs": [
    {
     "name": "stdout",
     "output_type": "stream",
     "text": [
      "15\n"
     ]
    }
   ],
   "source": [
    "print(n)"
   ]
  },
  {
   "cell_type": "code",
   "execution_count": 2,
   "id": "fedd1493-d36a-4a23-abbb-b851c5f27f57",
   "metadata": {},
   "outputs": [],
   "source": []
  },
  {
   "cell_type": "code",
   "execution_count": 2,
   "id": "b63bdb60-e046-4a6d-9d90-adef56b959c9",
   "metadata": {},
   "outputs": [],
   "source": [
    "from tqdm.notebook import tqdm\n",
    "import time"
   ]
  },
  {
   "cell_type": "code",
   "execution_count": 5,
   "id": "6f4f1215-5b08-4ded-ac84-7eab92a1aa9a",
   "metadata": {},
   "outputs": [
    {
     "data": {
      "application/vnd.jupyter.widget-view+json": {
       "model_id": "3f01dca9a1dc420599583174af3db84b",
       "version_major": 2,
       "version_minor": 0
      },
      "text/plain": [
       "  0%|          | 0/10 [00:00<?, ?it/s]"
      ]
     },
     "metadata": {},
     "output_type": "display_data"
    }
   ],
   "source": [
    "for i in tqdm(range(10)):\n",
    "    time.sleep(1)"
   ]
  },
  {
   "cell_type": "code",
   "execution_count": 1,
   "id": "8d26656a-e663-4893-b710-e8a00491802e",
   "metadata": {},
   "outputs": [
    {
     "name": "stdout",
     "output_type": "stream",
     "text": [
      "new commit\n"
     ]
    }
   ],
   "source": [
    "print(\"new commit\")"
   ]
  },
  {
   "cell_type": "code",
   "execution_count": 2,
   "id": "d8d9a86f-8672-4593-9113-b271b16a38e3",
   "metadata": {},
   "outputs": [
    {
     "name": "stdout",
     "output_type": "stream",
     "text": [
      "another commit\n"
     ]
    }
   ],
   "source": [
    "print(\"another commit\")"
   ]
  },
  {
   "cell_type": "code",
   "execution_count": null,
   "id": "6676c1ea-39dd-41fc-8522-4316f4d8cae0",
   "metadata": {},
   "outputs": [],
   "source": []
  }
 ],
 "metadata": {
  "kernelspec": {
   "display_name": "Python 3 (ipykernel)",
   "language": "python",
   "name": "python3"
  },
  "language_info": {
   "codemirror_mode": {
    "name": "ipython",
    "version": 3
   },
   "file_extension": ".py",
   "mimetype": "text/x-python",
   "name": "python",
   "nbconvert_exporter": "python",
   "pygments_lexer": "ipython3",
   "version": "3.9.12"
  }
 },
 "nbformat": 4,
 "nbformat_minor": 5
}
